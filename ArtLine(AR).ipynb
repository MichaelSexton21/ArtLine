{
 "cells": [
  {
   "cell_type": "markdown",
   "metadata": {
    "id": "Hq3gvFEqmLvG"
   },
   "source": [
    "# **ArtLine**\r\n",
    "**Create** **Amazing** **Line** **Art**."
   ]
  },
  {
   "cell_type": "code",
   "execution_count": 1,
   "metadata": {
    "id": "IPyB9hb8mPC8"
   },
   "outputs": [],
   "source": [
    "# !git clone https://github.com/vijishmadhavan/ArtLine.git ArtLine"
   ]
  },
  {
   "cell_type": "code",
   "execution_count": 2,
   "metadata": {
    "id": "4hmPeTa0mRhA"
   },
   "outputs": [],
   "source": [
    "# cd ArtLine"
   ]
  },
  {
   "cell_type": "code",
   "execution_count": 3,
   "metadata": {
    "id": "HVHkL8wQmURk"
   },
   "outputs": [],
   "source": [
    "# !pip install -r colab_requirements.txt"
   ]
  },
  {
   "cell_type": "markdown",
   "metadata": {
    "id": "mC7faka5mXdz"
   },
   "source": [
    "# **Runtime**\r\n",
    "\r\n",
    "* Hardware Accelerator = GPU "
   ]
  },
  {
   "cell_type": "code",
   "execution_count": 6,
   "metadata": {
    "id": "lY9UYezmmX77"
   },
   "outputs": [
    {
     "ename": "ImportError",
     "evalue": "cannot import name 'ImBsIOimport' from 'PIL' (/opt/conda/lib/python3.8/site-packages/PIL/__init__.py)",
     "output_type": "error",
     "traceback": [
      "\u001b[0;31m---------------------------------------------------------------------------\u001b[0m",
      "\u001b[0;31mImportError\u001b[0m                               Traceback (most recent call last)",
      "\u001b[0;32m<ipython-input-6-98c845947947>\u001b[0m in \u001b[0;36m<module>\u001b[0;34m\u001b[0m\n\u001b[1;32m     18\u001b[0m \u001b[0;32mimport\u001b[0m \u001b[0murllib\u001b[0m\u001b[0;34m.\u001b[0m\u001b[0mrequest\u001b[0m\u001b[0;34m\u001b[0m\u001b[0;34m\u001b[0m\u001b[0m\n\u001b[1;32m     19\u001b[0m \u001b[0;32mimport\u001b[0m \u001b[0mPIL\u001b[0m\u001b[0;34m.\u001b[0m\u001b[0mImage\u001b[0m\u001b[0;34m\u001b[0m\u001b[0;34m\u001b[0m\u001b[0m\n\u001b[0;32m---> 20\u001b[0;31m \u001b[0;32mfrom\u001b[0m \u001b[0mPIL\u001b[0m \u001b[0;32mimport\u001b[0m \u001b[0mImBsIOimport\u001b[0m\u001b[0;34m\u001b[0m\u001b[0;34m\u001b[0m\u001b[0m\n\u001b[0m\u001b[1;32m     21\u001b[0m \u001b[0;32mimport\u001b[0m \u001b[0mtorchvision\u001b[0m\u001b[0;34m.\u001b[0m\u001b[0mtransforms\u001b[0m \u001b[0;32mas\u001b[0m \u001b[0mT\u001b[0m\u001b[0;34m\u001b[0m\u001b[0;34m\u001b[0m\u001b[0m\n\u001b[1;32m     22\u001b[0m \u001b[0;34m\u001b[0m\u001b[0m\n",
      "\u001b[0;31mImportError\u001b[0m: cannot import name 'ImBsIOimport' from 'PIL' (/opt/conda/lib/python3.8/site-packages/PIL/__init__.py)"
     ]
    }
   ],
   "source": [
    "import fastai\r\n",
    "from fastai.vision import *\r\n",
    "from fastai.utils.mem import *\r\n",
    "from fastai.vision import open_image, load_learner, image, torch\r\n",
    "import numpy as np\r\n",
    "import urllib.request\r\n",
    "import PIL.Image\r\n",
    "from io import BytesIO\r\n",
    "import torchvision.transforms as T\r\n",
    "from PIL import Image\r\n",
    "import requests\r\n",
    "from io import BytesIO\r\n",
    "import fastai\r\n",
    "from fastai.vision import *\r\n",
    "from fastai.utils.mem import *\r\n",
    "from fastai.vision import open_image, load_learner, image, torch\r\n",
    "import numpy as np\r\n",
    "import urllib.request\r\n",
    "import PIL.Image\r\n",
    "from PIL import ImBsIOimport \n",
    "import torchvision.transforms as T\r\n",
    "\r\n",
    "class FeatureLoss(nn.Module):\r\n",
    "    def __init__(self, m_feat, layer_ids, layer_wgts):\r\n",
    "        super().__init__()\r\n",
    "        self.m_feat = m_feat\r\n",
    "        self.loss_features = [self.m_feat[i] for i in layer_ids]\r\n",
    "        self.hooks = hook_outputs(self.loss_features, detach=False)\r\n",
    "        self.wgts = layer_wgts\r\n",
    "        self.metric_names = ['pixel',] + [f'feat_{i}' for i in range(len(layer_ids))\r\n",
    "              ] + [f'gram_{i}' for i in range(len(layer_ids))]\r\n",
    "\r\n",
    "    def make_features(self, x, clone=False):\r\n",
    "        self.m_feat(x)\r\n",
    "        return [(o.clone() if clone else o) for o in self.hooks.stored]\r\n",
    "    \r\n",
    "    def forward(self, input, target):\r\n",
    "        out_feat = self.make_features(target, clone=True)\r\n",
    "        in_feat = self.make_features(input)\r\n",
    "        self.feat_losses = [base_loss(input,target)]\r\n",
    "        self.feat_losses += [base_loss(f_in, f_out)*w\r\n",
    "                             for f_in, f_out, w in zip(in_feat, out_feat, self.wgts)]\r\n",
    "        self.feat_losses += [base_loss(gram_matrix(f_in), gram_matrix(f_out))*w**2 * 5e3\r\n",
    "                             for f_in, f_out, w in zip(in_feat, out_feat, self.wgts)]\r\n",
    "        self.metrics = dict(zip(self.metric_names, self.feat_losses))\r\n",
    "        return sum(self.feat_losses)\r\n",
    "    \r\n",
    "    def __del__(self): self.hooks.remove()\r\n",
    "\r\n",
    "def add_margin(pil_img, top, right, bottom, left, color):\r\n",
    "    width, height = pil_img.size\r\n",
    "    new_width = width + right + left\r\n",
    "    new_height = height + top + bottom\r\n",
    "    result = Image.new(pil_img.mode, (new_width, new_height), color)\r\n",
    "    result.paste(pil_img, (left, top))\r\n",
    "    return result"
   ]
  },
  {
   "cell_type": "code",
   "execution_count": null,
   "metadata": {
    "id": "zAYxpVUTmeSZ"
   },
   "outputs": [],
   "source": [
    "MODEL_URL = \"https://www.dropbox.com/s/04suaimdpru76h3/ArtLine_920.pkl?dl=1 \"\r\n",
    "urllib.request.urlretrieve(MODEL_URL, \"ArtLine_920.pkl\")\r\n",
    "path = Path(\".\")\r\n",
    "learn=load_learner(path, 'ArtLine_920.pkl')"
   ]
  },
  {
   "cell_type": "markdown",
   "metadata": {
    "id": "PXl3Wg_BmlSe"
   },
   "source": [
    "# **URL**\r\n",
    "Type in a url to a direct link of an **high quality image**. Usually that means they'll end in .png, .jpg, etc. \r\n",
    "\r\n",
    "**Note** : Works well with **portrait photos having good lighting and plain background**. But you're free to explore."
   ]
  },
  {
   "cell_type": "markdown",
   "metadata": {
    "id": "vE6yNVqwmqSJ"
   },
   "source": [
    "Link to high-quality portrait pics. Click on the image, let it expand and then copy image address.\r\n",
    "\r\n",
    "https://www.freepik.com/search?dates=any&format=search&from_query=Portrait&page=1&query=Portrait&sort=popular&type=photo"
   ]
  },
  {
   "cell_type": "code",
   "execution_count": 6,
   "metadata": {
    "cellView": "form",
    "colab": {
     "base_uri": "https://localhost:8080/",
     "height": 426
    },
    "id": "Vtr_uW91mpgl",
    "outputId": "af910c11-9dc3-4df1-88c8-38724b22fcec"
   },
   "outputs": [],
   "source": [
    "url = 'https://filmspell.com/wp-content/uploads/2019/12/ford-ferrari-anatomy-promo-videoSixteenByNine1050-990x556.jpg' #@param {type:\"string\"}\n",
    "url = \"https://ca.slack-edge.com/T04DW16CC-UEBALL4KV-cb6e7bb368e2-512\" #vincent\r\n",
    "\r\n",
    "response = requests.get(url)\r\n",
    "img = PIL.Image.open(BytesIO(response.content)).convert(\"RGB\")\r\n",
    "im_new = add_margin(img, 250, 250, 250, 250, (255, 255, 255))\r\n",
    "im_new.save(\"test.jpg\", quality=95)\r\n",
    "img = open_image(\"test.jpg\")\r\n",
    "show_image(img, figsize=(10,10), interpolation='nearest');"
   ]
  },
  {
   "cell_type": "code",
   "execution_count": 7,
   "metadata": {
    "colab": {
     "base_uri": "https://localhost:8080/",
     "height": 537
    },
    "id": "1WfxvLQpoIfF",
    "outputId": "fb845e64-9d96-455c-f4fe-d9467d7bffce"
   },
   "outputs": [
    {
     "name": "stderr",
     "output_type": "stream",
     "text": [
      "Clipping input data to the valid range for imshow with RGB data ([0..1] for floats or [0..255] for integers).\n"
     ]
    }
   ],
   "source": [
    "p,img_hr,b = learn.predict(img)\r\n",
    "show_image(img_hr, figsize=(9,9), interpolation='nearest');"
   ]
  },
  {
   "cell_type": "markdown",
   "metadata": {
    "id": "3rsaOVrxYyyJ"
   },
   "source": [
    "# **Recommended image sources**"
   ]
  },
  {
   "cell_type": "markdown",
   "metadata": {
    "id": "_Hv8aWo5Y1zX"
   },
   "source": [
    "https://www.freepik.com/search?dates=any&format=search&from_query=Portrait&page=1&query=Portrait&sort=popular&type=photo\r\n",
    "\r\n",
    "https://www.pexels.com/search/portrait%20man/\r\n",
    "\r\n",
    "https://www.flickr.com/search/?user_id=37277626%40N07&sort=date-taken-desc&safe_search=1&view_all=1&tags=portrait\r\n"
   ]
  }
 ],
 "metadata": {
  "accelerator": "GPU",
  "colab": {
   "name": "ArtLine(AR).ipynb",
   "provenance": []
  },
  "kernelspec": {
   "display_name": "Python 3",
   "language": "python",
   "name": "python3"
  },
  "language_info": {
   "codemirror_mode": {
    "name": "ipython",
    "version": 3
   },
   "file_extension": ".py",
   "mimetype": "text/x-python",
   "name": "python",
   "nbconvert_exporter": "python",
   "pygments_lexer": "ipython3",
   "version": "3.8.1"
  }
 },
 "nbformat": 4,
 "nbformat_minor": 4
}
